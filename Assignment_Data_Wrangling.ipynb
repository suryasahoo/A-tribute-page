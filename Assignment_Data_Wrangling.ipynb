{
  "nbformat": 4,
  "nbformat_minor": 0,
  "metadata": {
    "kernelspec": {
      "display_name": "Python 3",
      "language": "python",
      "name": "python3"
    },
    "language_info": {
      "codemirror_mode": {
        "name": "ipython",
        "version": 3
      },
      "file_extension": ".py",
      "mimetype": "text/x-python",
      "name": "python",
      "nbconvert_exporter": "python",
      "pygments_lexer": "ipython3",
      "version": "3.7.1"
    },
    "colab": {
      "provenance": [],
      "include_colab_link": true
    }
  },
  "cells": [
    {
      "cell_type": "markdown",
      "metadata": {
        "id": "view-in-github",
        "colab_type": "text"
      },
      "source": [
        "<a href=\"https://colab.research.google.com/github/suryasahoo/A-tribute-page/blob/main/Assignment_Data_Wrangling.ipynb\" target=\"_parent\"><img src=\"https://colab.research.google.com/assets/colab-badge.svg\" alt=\"Open In Colab\"/></a>"
      ]
    },
    {
      "cell_type": "markdown",
      "metadata": {
        "id": "WEPecVgEVrP_"
      },
      "source": [
        "## <u> Use only those concepts which have been taught till now </u>"
      ]
    },
    {
      "cell_type": "markdown",
      "metadata": {
        "id": "UCW8FaGk-pd0"
      },
      "source": [
        "# <b><u> Problem 1: </u> Which actor has acted in the most number of movies? Deep dive into the movies, genres and profits corresponding to this actor. </b>"
      ]
    },
    {
      "cell_type": "code",
      "metadata": {
        "id": "jI39LRd3-pd2"
      },
      "source": [
        "# Your code here\n",
        "\n"
      ],
      "execution_count": null,
      "outputs": []
    },
    {
      "cell_type": "markdown",
      "metadata": {
        "id": "QlQXvEQN-pd9"
      },
      "source": [
        "# <b><u> Problem 2 :</u> Top 3 directors prefer which actors the most?"
      ]
    },
    {
      "cell_type": "code",
      "metadata": {
        "id": "NE9RPJOcSgSM"
      },
      "source": [
        "# Your code here \n",
        "\n",
        "\n"
      ],
      "execution_count": null,
      "outputs": []
    },
    {
      "cell_type": "markdown",
      "metadata": {
        "id": "tCvG_u1vXTXh"
      },
      "source": [
        "# <b><u>Problem 3 :</u> Make a table of all the producers and directors of each movie. Find the top 3 producers who have produced movies with the highest average RoI."
      ]
    },
    {
      "cell_type": "code",
      "metadata": {
        "id": "sMkh6DPCQRxr"
      },
      "source": [
        "# Hint below: Create a dataframe which looks like as shown\n",
        "# DataFrame1\n",
        "Movie    Producers     Directors\n",
        "\n",
        "Movie1    [p1, p2]     [d1, d2]\n",
        "Movie2    [p3, p4]     [d3, d4]\n",
        "\n",
        "# DataFrame2\n",
        "Movie    Producers       ROI\n",
        "Movie1     p1            12\n",
        "Movie1     p2            13\n",
        "Movie2     p3            14\n",
        "movie2     p4            15\n",
        "\n",
        "# DataFrame3\n",
        "Producer   Movies         Average_ROI\n",
        "p1.    [m1, m2, m3]    avg_roi(m1, m2, m3)\n",
        "p2     [m2, m4, m5]    avg_roi(m2, m4, m5)"
      ],
      "execution_count": null,
      "outputs": []
    },
    {
      "cell_type": "code",
      "metadata": {
        "id": "5nXIINbDia7R"
      },
      "source": [
        "# Your code here\n",
        "\n",
        "\n",
        "\n"
      ],
      "execution_count": null,
      "outputs": []
    }
  ]
}